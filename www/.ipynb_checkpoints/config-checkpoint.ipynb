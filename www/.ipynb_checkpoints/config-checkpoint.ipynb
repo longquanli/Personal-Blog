{
 "cells": [
  {
   "cell_type": "code",
   "execution_count": null,
   "metadata": {
    "collapsed": true
   },
   "outputs": [],
   "source": [
    "#!/usr/bin/env python3\n",
    "# -*- coding: utf-8 -*-\n",
    "\n",
    "'''\n",
    "Configuration\n",
    "'''\n",
    "\n",
    "__author__ = 'Charles Li'\n",
    "\n",
    "import config_default\n",
    "\n",
    "class Dict(dict):\n",
    "    '''\n",
    "    Simple dict but support access as x.y style.\n",
    "    '''\n",
    "    def __init__(self, names=(), values=(), **kw):\n",
    "        super(Dict, self).__init__(**kw)\n",
    "        for k, v in zip(names, values):\n",
    "            self[k] = v\n",
    "\n",
    "    def __getattr__(self, key):\n",
    "        try:\n",
    "            return self[key]\n",
    "        except KeyError:\n",
    "            raise AttributeError(r\"'Dict' object has no attribute '%s'\" % key)\n",
    "\n",
    "    def __setattr__(self, key, value):\n",
    "        self[key] = value\n",
    "\n",
    "def merge(defaults, override):\n",
    "    r = {}\n",
    "    for k, v in defaults.items():\n",
    "        if k in override:\n",
    "            if isinstance(v, dict):\n",
    "                r[k] = merge(v, override[k])\n",
    "            else:\n",
    "                r[k] = override[k]\n",
    "        else:\n",
    "            r[k] = v\n",
    "    return r\n",
    "\n",
    "def toDict(d):\n",
    "    D = Dict()\n",
    "    for k, v in d.items():\n",
    "        D[k] = toDict(v) if isinstance(v, dict) else v\n",
    "    return D\n",
    "\n",
    "configs = config_default.configs\n",
    "\n",
    "try:\n",
    "    import config_override\n",
    "    configs = merge(configs, config_override.configs)\n",
    "except ImportError:\n",
    "    pass\n",
    "\n",
    "configs = toDict(configs)"
   ]
  }
 ],
 "metadata": {
  "kernelspec": {
   "display_name": "Python 3",
   "language": "python",
   "name": "python3"
  },
  "language_info": {
   "codemirror_mode": {
    "name": "ipython",
    "version": 3
   },
   "file_extension": ".py",
   "mimetype": "text/x-python",
   "name": "python",
   "nbconvert_exporter": "python",
   "pygments_lexer": "ipython3",
   "version": "3.6.3"
  }
 },
 "nbformat": 4,
 "nbformat_minor": 2
}
