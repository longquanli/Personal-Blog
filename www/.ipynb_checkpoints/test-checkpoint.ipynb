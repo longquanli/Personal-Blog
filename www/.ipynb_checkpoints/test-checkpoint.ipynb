{
 "cells": [
  {
   "cell_type": "code",
   "execution_count": 1,
   "metadata": {},
   "outputs": [
    {
     "name": "stdout",
     "output_type": "stream",
     "text": [
      "C:\\Users\\llq\\Desktop\\project\\python\\myFirstWeb_Charles\\www\\API\n"
     ]
    }
   ],
   "source": [
    "cd API/"
   ]
  },
  {
   "cell_type": "code",
   "execution_count": 3,
   "metadata": {
    "collapsed": true
   },
   "outputs": [],
   "source": [
    "import orm\n",
    "import asyncio\n",
    "import sys\n",
    "from models import User, Blog, Comment\n",
    "\n",
    "async def test_1(loop):\n",
    "    await orm.create_pool(loop = loop, user= 'Charles', password='0625', db='webapp')\n",
    "    u = User(name='test', email='test@example.com', passwd='1234567', image='about:blank')\n",
    "    r = await u.findAll()\n",
    "    await u.save()\n",
    "    await orm.destroy_pool()\n",
    "    print(u)"
   ]
  },
  {
   "cell_type": "code",
   "execution_count": 3,
   "metadata": {
    "collapsed": true
   },
   "outputs": [],
   "source": [
    "async def test_2(loop):\n",
    "    u = User(name='Charles', email='mr.llq@outlook.com', passwd='0625', image='about:blank')\n",
    "    await u.save()\n",
    "    await orm.destroy_pool()\n",
    "    print(u)"
   ]
  },
  {
   "cell_type": "code",
   "execution_count": 4,
   "metadata": {},
   "outputs": [
    {
     "name": "stdout",
     "output_type": "stream",
     "text": [
      "{'name': 'test', 'email': 'test@example.com', 'passwd': '1234567', 'image': 'about:blank', 'admin': False, 'created_at': 1529589632.7781272, 'id': '0015295896327785188d5d5e9ef4b33ab613ab17dc2d18d000'}\n"
     ]
    },
    {
     "ename": "SystemExit",
     "evalue": "0",
     "output_type": "error",
     "traceback": [
      "An exception has occurred, use %tb to see the full traceback.\n",
      "\u001b[1;31mSystemExit\u001b[0m\u001b[1;31m:\u001b[0m 0\n"
     ]
    },
    {
     "name": "stderr",
     "output_type": "stream",
     "text": [
      "F:\\Anaconda\\lib\\site-packages\\IPython\\core\\interactiveshell.py:2870: UserWarning: To exit: use 'exit', 'quit', or Ctrl-D.\n",
      "  warn(\"To exit: use 'exit', 'quit', or Ctrl-D.\", stacklevel=1)\n"
     ]
    }
   ],
   "source": [
    "loop = asyncio.get_event_loop()\n",
    "loop.run_until_complete(asyncio.wait([test_1(loop)]))\n",
    "loop.close()\n",
    "if loop.is_closed():\n",
    "    sys.exit(0)"
   ]
  },
  {
   "cell_type": "code",
   "execution_count": null,
   "metadata": {},
   "outputs": [
    {
     "name": "stderr",
     "output_type": "stream",
     "text": [
      "INFO:root:create database connection pool...\n",
      "F:\\Anaconda\\lib\\site-packages\\ipykernel_launcher.py:12: DeprecationWarning: loop argument is deprecated\n",
      "  if sys.path[0] == '':\n",
      "INFO:root:init jinja2...\n",
      "INFO:root:set jinja2 template path: C:\\Users\\llq\\Desktop\\project\\python\\myFirstWeb_Charles\\www\\API\\templates\n",
      "INFO:root:add route GET /hello => hello(request)\n",
      "INFO:root:add route GET / => index(request)\n",
      "INFO:root:add static /static/ => C:\\Users\\llq\\Desktop\\project\\python\\myFirstWeb_Charles\\www\\API\\static\n",
      "F:\\Anaconda\\lib\\site-packages\\ipykernel_launcher.py:18: DeprecationWarning: Application.make_handler(...) is deprecated, use AppRunner API instead\n",
      "INFO:root:server started at http://127.0.0.1:9000...\n",
      "INFO:root:Request: GET /\n",
      "INFO:root:Response handler...\n",
      "INFO:root:call with args: {'request': <Request GET / >}\n",
      "INFO:aiohttp.access:127.0.0.1 [23/Jun/2018:17:56:59 +0000] \"GET / HTTP/1.1\" 200 165 \"-\" \"Mozilla/5.0 (Windows NT 10.0; Win64; x64) AppleWebKit/537.36 (KHTML, like Gecko) Chrome/67.0.3396.87 Safari/537.36\"\n",
      "INFO:root:Request: GET /hello\n",
      "INFO:root:Response handler...\n",
      "INFO:root:call with args: {'request': <Request GET /hello >}\n",
      "INFO:aiohttp.access:127.0.0.1 [23/Jun/2018:17:57:11 +0000] \"GET /hello HTTP/1.1\" 200 164 \"-\" \"Mozilla/5.0 (Windows NT 10.0; Win64; x64) AppleWebKit/537.36 (KHTML, like Gecko) Chrome/67.0.3396.87 Safari/537.36\"\n"
     ]
    }
   ],
   "source": [
    "import logging; logging.basicConfig(level=logging.INFO)\n",
    "import asyncio\n",
    "from aiohttp import web\n",
    "from app import logger_factory, response_factory, init_jinja2, datetime_filter\n",
    "from coroweb import add_routes, add_static\n",
    "import app\n",
    "import orm\n",
    "if __name__ == '__main__':\n",
    "    async def init(loop):\n",
    "        await orm.create_pool(loop=loop, host='127.0.0.1', port=3306, user='Charles', password='0625', db='webapp')\n",
    "        app = web.Application(loop=loop, middlewares=[\n",
    "            logger_factory, response_factory\n",
    "        ])\n",
    "        #let app.__template__ include template \n",
    "        init_jinja2(app, filters=dict(datetime=datetime_filter))\n",
    "        add_routes(app, 'test_view')\n",
    "        add_static(app)\n",
    "        srv = await loop.create_server(app.make_handler(), '127.0.0.1', 9000)\n",
    "        logging.info('server started at http://127.0.0.1:9000...')\n",
    "        return srv\n",
    "\n",
    "    loop = asyncio.get_event_loop()\n",
    "    loop.run_until_complete(init(loop))\n",
    "    loop.run_forever()"
   ]
  },
  {
   "cell_type": "code",
   "execution_count": 2,
   "metadata": {},
   "outputs": [
    {
     "name": "stdout",
     "output_type": "stream",
     "text": [
      "C:\\Users\\llq\\Desktop\\project\\python\\myFirstWeb_Charles\\www\\API\n"
     ]
    }
   ],
   "source": [
    "cd API/"
   ]
  },
  {
   "cell_type": "code",
   "execution_count": null,
   "metadata": {
    "collapsed": true
   },
   "outputs": [],
   "source": []
  }
 ],
 "metadata": {
  "kernelspec": {
   "display_name": "Python 3",
   "language": "python",
   "name": "python3"
  },
  "language_info": {
   "codemirror_mode": {
    "name": "ipython",
    "version": 3
   },
   "file_extension": ".py",
   "mimetype": "text/x-python",
   "name": "python",
   "nbconvert_exporter": "python",
   "pygments_lexer": "ipython3",
   "version": "3.6.3"
  }
 },
 "nbformat": 4,
 "nbformat_minor": 2
}
