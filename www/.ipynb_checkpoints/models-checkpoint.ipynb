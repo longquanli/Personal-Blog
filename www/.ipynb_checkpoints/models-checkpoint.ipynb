{
 "cells": [
  {
   "cell_type": "code",
   "execution_count": null,
   "metadata": {
    "collapsed": true
   },
   "outputs": [],
   "source": [
    "#!/usr/bin/env python3\n",
    "# -*- coding: utf-8 -*-\n",
    "\n",
    "'''\n",
    "Models for user, blog, comment.\n",
    "'''\n",
    "\n",
    "__author__ = 'Charles Li'\n",
    "\n",
    "import time, uuid\n",
    "\n",
    "from orm import Model, StringField, BooleanField, FloatField, TextField\n",
    "\n",
    "def next_id():\n",
    "    return '%015d%s000' % (int(time.time() * 1000), uuid.uuid4().hex)\n",
    "\n",
    "class User(Model):\n",
    "    __table__ = 'users'\n",
    "\n",
    "    id = StringField(primary_key=True, default=next_id, ddl='varchar(50)')\n",
    "    email = StringField(ddl='varchar(50)')\n",
    "    passwd = StringField(ddl='varchar(50)')\n",
    "    admin = BooleanField()\n",
    "    name = StringField(ddl='varchar(50)')\n",
    "    image = StringField(ddl='varchar(500)')\n",
    "    created_at = FloatField(default=time.time)\n",
    "\n",
    "class Blog(Model):\n",
    "    __table__ = 'blogs'\n",
    "\n",
    "    id = StringField(primary_key=True, default=next_id, ddl='varchar(50)')\n",
    "    user_id = StringField(ddl='varchar(50)')\n",
    "    user_name = StringField(ddl='varchar(50)')\n",
    "    user_image = StringField(ddl='varchar(500)')\n",
    "    name = StringField(ddl='varchar(50)')\n",
    "    summary = StringField(ddl='varchar(200)')\n",
    "    content = TextField()\n",
    "    created_at = FloatField(default=time.time)\n",
    "\n",
    "class Comment(Model):\n",
    "    __table__ = 'comments'\n",
    "\n",
    "    id = StringField(primary_key=True, default=next_id, ddl='varchar(50)')\n",
    "    blog_id = StringField(ddl='varchar(50)')\n",
    "    user_id = StringField(ddl='varchar(50)')\n",
    "    user_name = StringField(ddl='varchar(50)')\n",
    "    user_image = StringField(ddl='varchar(500)')\n",
    "    content = TextField()\n",
    "    created_at = FloatField(default=time.time)"
   ]
  }
 ],
 "metadata": {
  "kernelspec": {
   "display_name": "Python 3",
   "language": "python",
   "name": "python3"
  },
  "language_info": {
   "codemirror_mode": {
    "name": "ipython",
    "version": 3
   },
   "file_extension": ".py",
   "mimetype": "text/x-python",
   "name": "python",
   "nbconvert_exporter": "python",
   "pygments_lexer": "ipython3",
   "version": "3.6.3"
  }
 },
 "nbformat": 4,
 "nbformat_minor": 2
}
