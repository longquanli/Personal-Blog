{
 "cells": [
  {
   "cell_type": "code",
   "execution_count": 1,
   "metadata": {
    "collapsed": true
   },
   "outputs": [],
   "source": [
    "#!/usr/bin/env python3\n",
    "# -*- coding: utf-8 -*-\n",
    "\n",
    "'''\n",
    "Default configurations.\n",
    "'''\n",
    "\n",
    "__author__ = 'Charles Li'\n",
    "\n",
    "configs = {\n",
    "    'debug': True,\n",
    "    'db': {\n",
    "        'host': '127.0.0.1',\n",
    "        'port': 3306,\n",
    "        'user': 'Charles',\n",
    "        'password': '0625',\n",
    "        'db': 'webapp'\n",
    "    },\n",
    "    'session': {\n",
    "        'secret': 'Awesome'\n",
    "    }\n",
    "}"
   ]
  },
  {
   "cell_type": "code",
   "execution_count": null,
   "metadata": {
    "collapsed": true
   },
   "outputs": [],
   "source": []
  }
 ],
 "metadata": {
  "kernelspec": {
   "display_name": "Python 3",
   "language": "python",
   "name": "python3"
  },
  "language_info": {
   "codemirror_mode": {
    "name": "ipython",
    "version": 3
   },
   "file_extension": ".py",
   "mimetype": "text/x-python",
   "name": "python",
   "nbconvert_exporter": "python",
   "pygments_lexer": "ipython3",
   "version": "3.6.3"
  }
 },
 "nbformat": 4,
 "nbformat_minor": 2
}
