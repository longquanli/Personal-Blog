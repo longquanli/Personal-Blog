{
 "cells": [
  {
   "cell_type": "code",
   "execution_count": 1,
   "metadata": {},
   "outputs": [
    {
     "name": "stdout",
     "output_type": "stream",
     "text": [
      "C:\\Users\\llq\\Desktop\\project\\python\\myFirstWeb_Charles\\www\\API\n"
     ]
    }
   ],
   "source": [
    "cd API/"
   ]
  },
  {
   "cell_type": "code",
   "execution_count": 2,
   "metadata": {
    "collapsed": true
   },
   "outputs": [],
   "source": [
    "# -*- coding: utf-8 -*-\n",
    "__author__ = 'Charles Li'\n",
    "'''\n",
    "async web application\n",
    "'''\n",
    "import logging; logging.basicConfig(level=logging.INFO)\n",
    "\n",
    "import asyncio, os, json, time\n",
    "from datetime import datetime\n",
    "\n",
    "from aiohttp import web\n",
    "from jinja2 import Environment, FileSystemLoader\n",
    "\n",
    "import orm\n",
    "from coroweb import add_routes, add_static\n",
    "from config import configs"
   ]
  },
  {
   "cell_type": "code",
   "execution_count": 6,
   "metadata": {},
   "outputs": [
    {
     "name": "stderr",
     "output_type": "stream",
     "text": [
      "F:\\Anaconda\\lib\\site-packages\\ipykernel_launcher.py:96: DeprecationWarning: loop argument is deprecated\n",
      "INFO:root:init jinja2...\n"
     ]
    },
    {
     "ename": "NameError",
     "evalue": "name '__file__' is not defined",
     "output_type": "error",
     "traceback": [
      "\u001b[1;31m---------------------------------------------------------------------------\u001b[0m",
      "\u001b[1;31mNameError\u001b[0m                                 Traceback (most recent call last)",
      "\u001b[1;32m<ipython-input-6-0e0b8237ada6>\u001b[0m in \u001b[0;36m<module>\u001b[1;34m()\u001b[0m\n\u001b[0;32m    104\u001b[0m \u001b[1;33m\u001b[0m\u001b[0m\n\u001b[0;32m    105\u001b[0m \u001b[0mloop\u001b[0m \u001b[1;33m=\u001b[0m \u001b[0masyncio\u001b[0m\u001b[1;33m.\u001b[0m\u001b[0mget_event_loop\u001b[0m\u001b[1;33m(\u001b[0m\u001b[1;33m)\u001b[0m\u001b[1;33m\u001b[0m\u001b[0m\n\u001b[1;32m--> 106\u001b[1;33m \u001b[0mloop\u001b[0m\u001b[1;33m.\u001b[0m\u001b[0mrun_until_complete\u001b[0m\u001b[1;33m(\u001b[0m\u001b[0minit\u001b[0m\u001b[1;33m(\u001b[0m\u001b[0mloop\u001b[0m\u001b[1;33m)\u001b[0m\u001b[1;33m)\u001b[0m\u001b[1;33m\u001b[0m\u001b[0m\n\u001b[0m\u001b[0;32m    107\u001b[0m \u001b[0mloop\u001b[0m\u001b[1;33m.\u001b[0m\u001b[0mrun_forever\u001b[0m\u001b[1;33m(\u001b[0m\u001b[1;33m)\u001b[0m\u001b[1;33m\u001b[0m\u001b[0m\n",
      "\u001b[1;32mF:\\Anaconda\\lib\\asyncio\\base_events.py\u001b[0m in \u001b[0;36mrun_until_complete\u001b[1;34m(self, future)\u001b[0m\n\u001b[0;32m    465\u001b[0m             \u001b[1;32mraise\u001b[0m \u001b[0mRuntimeError\u001b[0m\u001b[1;33m(\u001b[0m\u001b[1;34m'Event loop stopped before Future completed.'\u001b[0m\u001b[1;33m)\u001b[0m\u001b[1;33m\u001b[0m\u001b[0m\n\u001b[0;32m    466\u001b[0m \u001b[1;33m\u001b[0m\u001b[0m\n\u001b[1;32m--> 467\u001b[1;33m         \u001b[1;32mreturn\u001b[0m \u001b[0mfuture\u001b[0m\u001b[1;33m.\u001b[0m\u001b[0mresult\u001b[0m\u001b[1;33m(\u001b[0m\u001b[1;33m)\u001b[0m\u001b[1;33m\u001b[0m\u001b[0m\n\u001b[0m\u001b[0;32m    468\u001b[0m \u001b[1;33m\u001b[0m\u001b[0m\n\u001b[0;32m    469\u001b[0m     \u001b[1;32mdef\u001b[0m \u001b[0mstop\u001b[0m\u001b[1;33m(\u001b[0m\u001b[0mself\u001b[0m\u001b[1;33m)\u001b[0m\u001b[1;33m:\u001b[0m\u001b[1;33m\u001b[0m\u001b[0m\n",
      "\u001b[1;32m<ipython-input-6-0e0b8237ada6>\u001b[0m in \u001b[0;36minit\u001b[1;34m(loop)\u001b[0m\n\u001b[0;32m     96\u001b[0m         \u001b[0mlogger_factory\u001b[0m\u001b[1;33m,\u001b[0m \u001b[0mresponse_factory\u001b[0m\u001b[1;33m\u001b[0m\u001b[0m\n\u001b[0;32m     97\u001b[0m     ])\n\u001b[1;32m---> 98\u001b[1;33m     \u001b[0minit_jinja2\u001b[0m\u001b[1;33m(\u001b[0m\u001b[0mapp\u001b[0m\u001b[1;33m,\u001b[0m \u001b[0mfilters\u001b[0m\u001b[1;33m=\u001b[0m\u001b[0mdict\u001b[0m\u001b[1;33m(\u001b[0m\u001b[0mdatetime\u001b[0m\u001b[1;33m=\u001b[0m\u001b[0mdatetime_filter\u001b[0m\u001b[1;33m)\u001b[0m\u001b[1;33m)\u001b[0m\u001b[1;33m\u001b[0m\u001b[0m\n\u001b[0m\u001b[0;32m     99\u001b[0m     \u001b[0madd_routes\u001b[0m\u001b[1;33m(\u001b[0m\u001b[0mapp\u001b[0m\u001b[1;33m,\u001b[0m \u001b[1;34m'handlers'\u001b[0m\u001b[1;33m)\u001b[0m\u001b[1;33m\u001b[0m\u001b[0m\n\u001b[0;32m    100\u001b[0m     \u001b[0madd_static\u001b[0m\u001b[1;33m(\u001b[0m\u001b[0mapp\u001b[0m\u001b[1;33m)\u001b[0m\u001b[1;33m\u001b[0m\u001b[0m\n",
      "\u001b[1;32m<ipython-input-6-0e0b8237ada6>\u001b[0m in \u001b[0;36minit_jinja2\u001b[1;34m(app, **kw)\u001b[0m\n\u001b[0;32m     12\u001b[0m     \u001b[0mpath\u001b[0m \u001b[1;33m=\u001b[0m \u001b[0mkw\u001b[0m\u001b[1;33m.\u001b[0m\u001b[0mget\u001b[0m\u001b[1;33m(\u001b[0m\u001b[1;34m'path'\u001b[0m\u001b[1;33m,\u001b[0m \u001b[1;32mNone\u001b[0m\u001b[1;33m)\u001b[0m\u001b[1;33m\u001b[0m\u001b[0m\n\u001b[0;32m     13\u001b[0m     \u001b[1;32mif\u001b[0m \u001b[0mpath\u001b[0m \u001b[1;32mis\u001b[0m \u001b[1;32mNone\u001b[0m\u001b[1;33m:\u001b[0m\u001b[1;33m\u001b[0m\u001b[0m\n\u001b[1;32m---> 14\u001b[1;33m         \u001b[0mpath\u001b[0m \u001b[1;33m=\u001b[0m \u001b[0mos\u001b[0m\u001b[1;33m.\u001b[0m\u001b[0mpath\u001b[0m\u001b[1;33m.\u001b[0m\u001b[0mjoin\u001b[0m\u001b[1;33m(\u001b[0m\u001b[0mos\u001b[0m\u001b[1;33m.\u001b[0m\u001b[0mpath\u001b[0m\u001b[1;33m.\u001b[0m\u001b[0mdirname\u001b[0m\u001b[1;33m(\u001b[0m\u001b[0mos\u001b[0m\u001b[1;33m.\u001b[0m\u001b[0mpath\u001b[0m\u001b[1;33m.\u001b[0m\u001b[0mabspath\u001b[0m\u001b[1;33m(\u001b[0m\u001b[0m__file__\u001b[0m\u001b[1;33m)\u001b[0m\u001b[1;33m)\u001b[0m\u001b[1;33m,\u001b[0m \u001b[1;34m'templates'\u001b[0m\u001b[1;33m)\u001b[0m\u001b[1;33m\u001b[0m\u001b[0m\n\u001b[0m\u001b[0;32m     15\u001b[0m     \u001b[0mlogging\u001b[0m\u001b[1;33m.\u001b[0m\u001b[0minfo\u001b[0m\u001b[1;33m(\u001b[0m\u001b[1;34m'set jinja2 template path: %s'\u001b[0m \u001b[1;33m%\u001b[0m \u001b[0mpath\u001b[0m\u001b[1;33m)\u001b[0m\u001b[1;33m\u001b[0m\u001b[0m\n\u001b[0;32m     16\u001b[0m     \u001b[0menv\u001b[0m \u001b[1;33m=\u001b[0m \u001b[0mEnvironment\u001b[0m\u001b[1;33m(\u001b[0m\u001b[0mloader\u001b[0m\u001b[1;33m=\u001b[0m\u001b[0mFileSystemLoader\u001b[0m\u001b[1;33m(\u001b[0m\u001b[0mpath\u001b[0m\u001b[1;33m)\u001b[0m\u001b[1;33m,\u001b[0m \u001b[1;33m**\u001b[0m\u001b[0moptions\u001b[0m\u001b[1;33m)\u001b[0m\u001b[1;33m\u001b[0m\u001b[0m\n",
      "\u001b[1;31mNameError\u001b[0m: name '__file__' is not defined"
     ]
    }
   ],
   "source": [
    "#Jinja, a template engine, all for view part , in this way, app can know how to find template and how to analyze used template\n",
    "def init_jinja2(app, **kw):\n",
    "    logging.info('init jinja2...')\n",
    "    options = dict(\n",
    "        autoescape = kw.get('autoescape', True),\n",
    "        block_start_string = kw.get('block_start_string', '{%'),\n",
    "        block_end_string = kw.get('block_end_string', '%}'),\n",
    "        variable_start_string = kw.get('variable_start_string', '{{'),\n",
    "        variable_end_string = kw.get('variable_end_string', '}}'),\n",
    "        auto_reload = kw.get('auto_reload', True)\n",
    "    )\n",
    "    path = kw.get('path', None)\n",
    "    if path is None:\n",
    "        path = os.path.join(os.path.dirname(os.path.abspath(__file__)), 'templates')\n",
    "    logging.info('set jinja2 template path: %s' % path)\n",
    "    env = Environment(loader=FileSystemLoader(path), **options)\n",
    "    filters = kw.get('filters', None)\n",
    "    if filters is not None:\n",
    "        for name, f in filters.items():\n",
    "            env.filters[name] = f\n",
    "    app['__templating__'] = env\n",
    "# Middleware: Middleware, fitting WSGI, is used to process data between client and server.    \n",
    "async def logger_factory(app, handler):\n",
    "    async def logger(request):\n",
    "        logging.info('Request: %s %s' % (request.method, request.path))\n",
    "        return (await handler(request))\n",
    "    return logger\n",
    "\n",
    "async def data_factory(app, handler):\n",
    "    async def parse_data(request):\n",
    "        if request.method == 'POST':\n",
    "            if request.content_type.startswith('application/json'):\n",
    "                request.__data__ = await request.json()\n",
    "                logging.info('request json: %s' % str(request.__data__))\n",
    "            elif request.content_type.startswith('application/x-www-form-urlencoded'):\n",
    "                request.__data__ = await request.post()\n",
    "                logging.info('request form: %s' % str(request.__data__))\n",
    "        return (await handler(request))\n",
    "    return parse_data\n",
    "\n",
    "async def response_factory(app, handler):\n",
    "    async def response(request):\n",
    "        logging.info('Response handler...')\n",
    "        r = await handler(request)\n",
    "        if isinstance(r, web.StreamResponse):\n",
    "            return r\n",
    "        if isinstance(r, bytes):\n",
    "            resp = web.Response(body=r)\n",
    "            resp.content_type = 'application/octet-stream'\n",
    "            return resp\n",
    "        if isinstance(r, str):\n",
    "            if r.startswith('redirect:'):\n",
    "                return web.HTTPFound(r[9:])\n",
    "            resp = web.Response(body=r.encode('utf-8'))\n",
    "            resp.content_type = 'text/html;charset=utf-8'\n",
    "            return resp\n",
    "        if isinstance(r, dict):\n",
    "            template = r.get('__template__')\n",
    "            if template is None:\n",
    "                resp = web.Response(body=json.dumps(r, ensure_ascii=False, default=lambda o: o.__dict__).encode('utf-8'))\n",
    "                resp.content_type = 'application/json;charset=utf-8'\n",
    "                return resp\n",
    "            else:\n",
    "                resp = web.Response(body=app['__templating__'].get_template(template).render(**r).encode('utf-8'))\n",
    "                resp.content_type = 'text/html;charset=utf-8'\n",
    "                return resp\n",
    "        if isinstance(r, int) and (100 <= r < 600):\n",
    "            return web.Response(r)\n",
    "        if isinstance(r, tuple) and len(r) == 2:\n",
    "            status_code, message = r\n",
    "            if isinstance(status_code, int) and (100 <= status_code < 600):\n",
    "                return web.Response(status_code, str(message))\n",
    "        # default:\n",
    "        resp = web.Response(body=str(r).encode('utf-8'))\n",
    "        resp.content_type = 'text/plain;charset=utf-8'\n",
    "        return resp\n",
    "    return response\n",
    "\n",
    "def datetime_filter(t):\n",
    "    delta = int(time().time() - t)\n",
    "    if delta < 60:\n",
    "        return u'1分钟前'\n",
    "    if delta < 3600:\n",
    "        return u'%s分钟前' % (delta // 60)\n",
    "    if delta < 86400:\n",
    "        return u'%s小时' % (delta // 3600)\n",
    "    if delta < 604800:\n",
    "        return u'%s天前' % (delta // 86400)\n",
    "    # 1440751417.283 --> '2015-08-28 16:43:37.283'\n",
    "    dt = datetime.fromtimestamp(t)\n",
    "    return u'%s年%s月%s日' % (dt.year, dt.month, dt.day)\n",
    "\n",
    "async def init(loop):\n",
    "#     await orm.create_pool(loop=loop, **configs.db)\n",
    "    app = web.Application(loop=loop, middlewares=[\n",
    "        logger_factory, response_factory\n",
    "    ])\n",
    "    init_jinja2(app, filters=dict(datetime=datetime_filter))\n",
    "    add_routes(app, 'handlers')\n",
    "    add_static(app)\n",
    "    srv = await loop.create_server(app.make_handler(), '127.0.0.1', 9000)\n",
    "    logging.info('server started at http://127.0.0.1:9000...')\n",
    "    return srv\n",
    "\n",
    "loop = asyncio.get_event_loop()\n",
    "loop.run_until_complete(init(loop))\n",
    "loop.run_forever()"
   ]
  },
  {
   "cell_type": "code",
   "execution_count": null,
   "metadata": {
    "collapsed": true
   },
   "outputs": [],
   "source": []
  }
 ],
 "metadata": {
  "kernelspec": {
   "display_name": "Python 3",
   "language": "python",
   "name": "python3"
  },
  "language_info": {
   "codemirror_mode": {
    "name": "ipython",
    "version": 3
   },
   "file_extension": ".py",
   "mimetype": "text/x-python",
   "name": "python",
   "nbconvert_exporter": "python",
   "pygments_lexer": "ipython3",
   "version": "3.6.3"
  }
 },
 "nbformat": 4,
 "nbformat_minor": 2
}
