{
 "cells": [
  {
   "cell_type": "code",
   "execution_count": null,
   "metadata": {
    "collapsed": true
   },
   "outputs": [],
   "source": [
    "from coroweb import get  \n",
    "import asyncio  \n",
    " \n",
    "@get('/')  \n",
    "async def index(request):  \n",
    "    users = await User.findAll()  \n",
    "    # 视图函数返回的值是dict  \n",
    "    return {  \n",
    "        # 在response_middleware中会搜索模板  \n",
    "        '__template__': 'test.html',  \n",
    "        # 传入模板的数据  \n",
    "        'users': users  \n",
    "    }   \n",
    " \n",
    "@get('/hello')  \n",
    "async def hello(request):  \n",
    "    return '<h1>hello!</h1>' "
   ]
  }
 ],
 "metadata": {
  "kernelspec": {
   "display_name": "Python 3",
   "language": "python",
   "name": "python3"
  },
  "language_info": {
   "codemirror_mode": {
    "name": "ipython",
    "version": 3
   },
   "file_extension": ".py",
   "mimetype": "text/x-python",
   "name": "python",
   "nbconvert_exporter": "python",
   "pygments_lexer": "ipython3",
   "version": "3.6.3"
  }
 },
 "nbformat": 4,
 "nbformat_minor": 2
}
